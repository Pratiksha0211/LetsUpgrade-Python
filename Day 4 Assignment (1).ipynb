{
 "cells": [
  {
   "cell_type": "code",
   "execution_count": 1,
   "metadata": {},
   "outputs": [
    {
     "name": "stdout",
     "output_type": "stream",
     "text": [
      "The first armstrong number is:  1741725\n"
     ]
    }
   ],
   "source": [
    "for num in range(1042000,702648265):\n",
    "    \n",
    "    order=len(str(num))\n",
    "    result=0\n",
    "    num2=num\n",
    "    \n",
    "    while num2>0:\n",
    "        temp = num2%10\n",
    "        result+=temp**order\n",
    "        num2=int(num2/10)\n",
    "    \n",
    "    if num==result:\n",
    "        print(\"The first armstrong number is: \",num)\n",
    "        break\n",
    "    else:\n",
    "        continue\n"
   ]
  },
  {
   "cell_type": "code",
   "execution_count": null,
   "metadata": {},
   "outputs": [],
   "source": []
  },
  {
   "cell_type": "code",
   "execution_count": null,
   "metadata": {},
   "outputs": [],
   "source": []
  }
 ],
 "metadata": {
  "kernelspec": {
   "display_name": "Python 3",
   "language": "python",
   "name": "python3"
  },
  "language_info": {
   "codemirror_mode": {
    "name": "ipython",
    "version": 3
   },
   "file_extension": ".py",
   "mimetype": "text/x-python",
   "name": "python",
   "nbconvert_exporter": "python",
   "pygments_lexer": "ipython3",
   "version": "3.7.6"
  }
 },
 "nbformat": 4,
 "nbformat_minor": 4
}
