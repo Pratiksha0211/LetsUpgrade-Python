{
 "cells": [
  {
   "cell_type": "code",
   "execution_count": 32,
   "metadata": {},
   "outputs": [],
   "source": [
    "class BankAccount():\n",
    "    \n",
    "    def __init__(self,name,balance):\n",
    "        \n",
    "        self.name = name\n",
    "        self.balance = balance\n",
    "        \n",
    "    def depositMoney(self):\n",
    "        amt = int(input(\"Enter amount to be deposited: \"))\n",
    "        self.balance = amt + self.balance\n",
    "        print(\"Total balance: \",self.balance)\n",
    "        \n",
    "    def withdrawMoney(self):\n",
    "        amt = int(input(\"Enter amount to withdraw: \"))\n",
    "        if amt<=self.balance:\n",
    "            self.balance = self.balance - amt\n",
    "            print(\"Total balance: \",self.balance)\n",
    "        else:\n",
    "            print(\"You don't have enough balance\")"
   ]
  },
  {
   "cell_type": "code",
   "execution_count": 33,
   "metadata": {},
   "outputs": [],
   "source": [
    "customer = BankAccount(\"Pratiksha\", 6000)"
   ]
  },
  {
   "cell_type": "code",
   "execution_count": 34,
   "metadata": {},
   "outputs": [
    {
     "name": "stdout",
     "output_type": "stream",
     "text": [
      "Enter amount to be deposited: 100\n",
      "Total balance:  6100\n"
     ]
    }
   ],
   "source": [
    "customer.depositMoney()"
   ]
  },
  {
   "cell_type": "code",
   "execution_count": 35,
   "metadata": {},
   "outputs": [
    {
     "name": "stdout",
     "output_type": "stream",
     "text": [
      "Enter amount to withdraw: 1000\n",
      "Total balance:  5100\n"
     ]
    }
   ],
   "source": [
    "customer.withdrawMoney()"
   ]
  },
  {
   "cell_type": "code",
   "execution_count": 36,
   "metadata": {},
   "outputs": [
    {
     "name": "stdout",
     "output_type": "stream",
     "text": [
      "Enter amount to withdraw: 5200\n",
      "You don't have enough balance\n"
     ]
    }
   ],
   "source": [
    "customer.withdrawMoney()"
   ]
  },
  {
   "cell_type": "code",
   "execution_count": 37,
   "metadata": {},
   "outputs": [],
   "source": [
    "cust2 = BankAccount(\"Abc\",1000)"
   ]
  },
  {
   "cell_type": "code",
   "execution_count": 38,
   "metadata": {},
   "outputs": [
    {
     "name": "stdout",
     "output_type": "stream",
     "text": [
      "Enter amount to withdraw: 1000\n",
      "Total balance:  0\n"
     ]
    }
   ],
   "source": [
    "cust2.withdrawMoney()"
   ]
  },
  {
   "cell_type": "code",
   "execution_count": 39,
   "metadata": {},
   "outputs": [
    {
     "name": "stdout",
     "output_type": "stream",
     "text": [
      "Enter amount to be deposited: 200\n",
      "Total balance:  200\n"
     ]
    }
   ],
   "source": [
    "cust2.depositMoney()"
   ]
  },
  {
   "cell_type": "code",
   "execution_count": 40,
   "metadata": {},
   "outputs": [
    {
     "name": "stdout",
     "output_type": "stream",
     "text": [
      "Enter amount to withdraw: 500\n",
      "You don't have enough balance\n"
     ]
    }
   ],
   "source": [
    "cust2.withdrawMoney()"
   ]
  },
  {
   "cell_type": "code",
   "execution_count": 41,
   "metadata": {},
   "outputs": [
    {
     "name": "stdout",
     "output_type": "stream",
     "text": [
      "Enter amount to be deposited: 100\n",
      "Total balance:  300\n"
     ]
    }
   ],
   "source": [
    "cust2.depositMoney()"
   ]
  },
  {
   "cell_type": "code",
   "execution_count": 42,
   "metadata": {},
   "outputs": [
    {
     "name": "stdout",
     "output_type": "stream",
     "text": [
      "Enter amount to be deposited: 300\n",
      "Total balance:  600\n"
     ]
    }
   ],
   "source": [
    "cust2.depositMoney()"
   ]
  },
  {
   "cell_type": "code",
   "execution_count": 43,
   "metadata": {},
   "outputs": [
    {
     "name": "stdout",
     "output_type": "stream",
     "text": [
      "Enter amount to be deposited: 500\n",
      "Total balance:  1100\n"
     ]
    }
   ],
   "source": [
    "cust2.depositMoney()"
   ]
  },
  {
   "cell_type": "code",
   "execution_count": 44,
   "metadata": {},
   "outputs": [
    {
     "name": "stdout",
     "output_type": "stream",
     "text": [
      "Enter amount to withdraw: 1000\n",
      "Total balance:  100\n"
     ]
    }
   ],
   "source": [
    "cust2.withdrawMoney()"
   ]
  },
  {
   "cell_type": "code",
   "execution_count": 45,
   "metadata": {},
   "outputs": [
    {
     "name": "stdout",
     "output_type": "stream",
     "text": [
      "Enter amount to withdraw: 150\n",
      "You don't have enough balance\n"
     ]
    }
   ],
   "source": [
    "cust2.withdrawMoney()"
   ]
  },
  {
   "cell_type": "markdown",
   "metadata": {},
   "source": [
    "# Question 2"
   ]
  },
  {
   "cell_type": "code",
   "execution_count": 9,
   "metadata": {},
   "outputs": [],
   "source": [
    "import math\n",
    "class cone():\n",
    "    def __init__(self,radius,height):\n",
    "        self.radius = radius\n",
    "        self.height = height\n",
    "        \n",
    "    def volume(self):\n",
    "        vol = 3.14 * self.radius**2 * (self.height/3)\n",
    "        print(\"Volume of the cone is : \",vol)\n",
    "        \n",
    "    def area(self):\n",
    "        surf_area = 3.14 * self.radius *(self.radius + math.sqrt(self.radius**2 * self.height**2))\n",
    "        print(\"Surface area of the cone is : \",surf_area)\n",
    "        base_area = 3.14 * self.radius**2\n",
    "        print(\"Base area of the cone is : \",base_area)"
   ]
  },
  {
   "cell_type": "code",
   "execution_count": 10,
   "metadata": {},
   "outputs": [],
   "source": [
    "cone1 = cone(5,10)"
   ]
  },
  {
   "cell_type": "code",
   "execution_count": 11,
   "metadata": {},
   "outputs": [
    {
     "name": "stdout",
     "output_type": "stream",
     "text": [
      "Volume of the cone is :  261.6666666666667\n"
     ]
    }
   ],
   "source": [
    "cone1.volume()"
   ]
  },
  {
   "cell_type": "code",
   "execution_count": 12,
   "metadata": {},
   "outputs": [
    {
     "name": "stdout",
     "output_type": "stream",
     "text": [
      "Surface area of the cone is :  863.5000000000001\n",
      "Base area of the cone is :  78.5\n"
     ]
    }
   ],
   "source": [
    "cone1.area()"
   ]
  },
  {
   "cell_type": "code",
   "execution_count": null,
   "metadata": {},
   "outputs": [],
   "source": []
  }
 ],
 "metadata": {
  "kernelspec": {
   "display_name": "Python 3",
   "language": "python",
   "name": "python3"
  },
  "language_info": {
   "codemirror_mode": {
    "name": "ipython",
    "version": 3
   },
   "file_extension": ".py",
   "mimetype": "text/x-python",
   "name": "python",
   "nbconvert_exporter": "python",
   "pygments_lexer": "ipython3",
   "version": "3.7.6"
  }
 },
 "nbformat": 4,
 "nbformat_minor": 4
}
