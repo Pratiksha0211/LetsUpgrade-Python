{
 "cells": [
  {
   "cell_type": "markdown",
   "metadata": {},
   "source": [
    "# Question 1:"
   ]
  },
  {
   "cell_type": "code",
   "execution_count": 19,
   "metadata": {},
   "outputs": [],
   "source": [
    "def getInput(some_function):\n",
    "    \n",
    "    def wrap_function():\n",
    "        print(\"Enter two numbers\")\n",
    "        num1 = int(input(\"Enter first number: \"))\n",
    "        num2 = int(input(\"Enter second number: \"))\n",
    "        some_function(num1,num2)\n",
    "        \n",
    "    return wrap_function"
   ]
  },
  {
   "cell_type": "code",
   "execution_count": null,
   "metadata": {},
   "outputs": [],
   "source": []
  },
  {
   "cell_type": "code",
   "execution_count": 37,
   "metadata": {},
   "outputs": [],
   "source": [
    "@getInput\n",
    "def getFibonacci(a,b=0):\n",
    "    n1=b\n",
    "    n2=b+1\n",
    "    count=0\n",
    "    while count<a:\n",
    "        print(n1)\n",
    "        n1,n2=n2,n1+n2\n",
    "        count+=1"
   ]
  },
  {
   "cell_type": "code",
   "execution_count": 38,
   "metadata": {},
   "outputs": [
    {
     "name": "stdout",
     "output_type": "stream",
     "text": [
      "Enter two numbers\n",
      "Enter first number: 10\n",
      "Enter second number: 0\n",
      "0\n",
      "1\n",
      "1\n",
      "2\n",
      "3\n",
      "5\n",
      "8\n",
      "13\n",
      "21\n",
      "34\n"
     ]
    }
   ],
   "source": [
    "getFibonacci()"
   ]
  },
  {
   "cell_type": "code",
   "execution_count": 41,
   "metadata": {},
   "outputs": [],
   "source": [
    "# Multiplication\n",
    "@getInput\n",
    "\n",
    "def Multiply(num1,num2):\n",
    "    result = num1*num2\n",
    "    print(\"Multiplication result is - \",result)"
   ]
  },
  {
   "cell_type": "code",
   "execution_count": 42,
   "metadata": {},
   "outputs": [
    {
     "name": "stdout",
     "output_type": "stream",
     "text": [
      "Enter two numbers\n",
      "Enter first number: 10\n",
      "Enter second number: 20\n",
      "Multiplication result is -  200\n"
     ]
    }
   ],
   "source": [
    "Multiply()"
   ]
  },
  {
   "cell_type": "markdown",
   "metadata": {},
   "source": [
    "# Question 2:"
   ]
  },
  {
   "cell_type": "code",
   "execution_count": 46,
   "metadata": {},
   "outputs": [
    {
     "name": "stdout",
     "output_type": "stream",
     "text": [
      "File is not writable\n"
     ]
    }
   ],
   "source": [
    "try:\n",
    "    file = open(\"Myfile.txt\",\"r\")\n",
    "    file.write(\"Hi this is the new file\")\n",
    "    file.close()\n",
    "    print(\"Success\")\n",
    "    \n",
    "except Exception as e:\n",
    "    print(\"File is not writable\")"
   ]
  },
  {
   "cell_type": "code",
   "execution_count": null,
   "metadata": {},
   "outputs": [],
   "source": []
  }
 ],
 "metadata": {
  "kernelspec": {
   "display_name": "Python 3",
   "language": "python",
   "name": "python3"
  },
  "language_info": {
   "codemirror_mode": {
    "name": "ipython",
    "version": 3
   },
   "file_extension": ".py",
   "mimetype": "text/x-python",
   "name": "python",
   "nbconvert_exporter": "python",
   "pygments_lexer": "ipython3",
   "version": "3.7.6"
  }
 },
 "nbformat": 4,
 "nbformat_minor": 4
}
