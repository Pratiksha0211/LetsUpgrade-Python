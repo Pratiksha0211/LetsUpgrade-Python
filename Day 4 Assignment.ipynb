{
 "cells": [
  {
   "cell_type": "code",
   "execution_count": 4,
   "metadata": {},
   "outputs": [
    {
     "name": "stdout",
     "output_type": "stream",
     "text": [
      "Enter a number111\n",
      "Not an armstrong number\n"
     ]
    }
   ],
   "source": [
    "num = input(\"Enter a number\")\n",
    "num=int(num)\n",
    "result = 0\n",
    "temp = num\n",
    "\n",
    "while num>0:\n",
    "    temp2 = num%10\n",
    "    result = result+temp2**3\n",
    "    num = int(num/10)\n",
    "    \n",
    "if result==temp:\n",
    "    print(\"It is an armstrong number\")\n",
    "else:\n",
    "    print(\"Not an armstrong number\")"
   ]
  },
  {
   "cell_type": "code",
   "execution_count": 5,
   "metadata": {},
   "outputs": [
    {
     "name": "stdout",
     "output_type": "stream",
     "text": [
      "Enter a number371\n",
      "It is an armstrong number\n"
     ]
    }
   ],
   "source": [
    "num = input(\"Enter a number\")\n",
    "num=int(num)\n",
    "result = 0\n",
    "temp = num\n",
    "\n",
    "while num>0:\n",
    "    temp2 = num%10\n",
    "    result = result+temp2**3\n",
    "    num = int(num/10)\n",
    "    \n",
    "if result==temp:\n",
    "    print(\"It is an armstrong number\")\n",
    "else:\n",
    "    print(\"Not an armstrong number\")"
   ]
  },
  {
   "cell_type": "code",
   "execution_count": null,
   "metadata": {},
   "outputs": [],
   "source": []
  }
 ],
 "metadata": {
  "kernelspec": {
   "display_name": "Python 3",
   "language": "python",
   "name": "python3"
  },
  "language_info": {
   "codemirror_mode": {
    "name": "ipython",
    "version": 3
   },
   "file_extension": ".py",
   "mimetype": "text/x-python",
   "name": "python",
   "nbconvert_exporter": "python",
   "pygments_lexer": "ipython3",
   "version": "3.7.6"
  }
 },
 "nbformat": 4,
 "nbformat_minor": 4
}
